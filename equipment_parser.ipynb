{
 "cells": [
  {
   "cell_type": "code",
   "execution_count": 2,
   "metadata": {},
   "outputs": [],
   "source": [
    "import pandas as pd"
   ]
  },
  {
   "cell_type": "code",
   "execution_count": 3,
   "metadata": {},
   "outputs": [],
   "source": [
    "EQUIPMENT_LIST = ['Amp', 'Delay', 'Distortion', 'Dynamics', 'EQ', 'Filter', 'Modulation', 'Pitch-Synth', 'Reverb', 'Volume-Pan', 'Wah']\n",
    "\n",
    "EQUIPMENT = {}\n",
    "for model in EQUIPMENT_LIST:\n",
    "    path = 'Equipment/' + model + '.csv'\n",
    "    EQUIPMENT[model] = pd.read_csv(path, encoding='utf-8', sep=';')"
   ]
  },
  {
   "cell_type": "code",
   "execution_count": 4,
   "metadata": {},
   "outputs": [
    {
     "data": {
      "application/vnd.microsoft.datawrangler.viewer.v0+json": {
       "columns": [
        {
         "name": "index",
         "rawType": "int64",
         "type": "integer"
        },
        {
         "name": "Model",
         "rawType": "object",
         "type": "string"
        },
        {
         "name": "Subcategories",
         "rawType": "object",
         "type": "string"
        },
        {
         "name": "Based_On",
         "rawType": "object",
         "type": "string"
        }
       ],
       "conversionMethod": "pd.DataFrame",
       "ref": "b0245941-94f6-4ec4-a842-38c14d5a3cef",
       "rows": [
        [
         "0",
         "Kinky Boost",
         "Mono, Stereo",
         "Xotic EP Booster"
        ],
        [
         "1",
         "Deranged Master",
         "Mono, Stereo",
         "Dallas Rangemaster Treble Booster"
        ],
        [
         "2",
         "Minotaur",
         "Mono, Stereo",
         "Klon Centaur"
        ],
        [
         "3",
         "Teemah!",
         "Mono, Stereo",
         "Paul Cochrane Timmy Overdrive"
        ],
        [
         "4",
         "Compulsive Drive",
         "Mono, Stereo",
         "Fulltone OCD"
        ],
        [
         "5",
         "Valve Driver",
         "Mono, Stereo",
         "Chandler Tube Driver"
        ],
        [
         "6",
         "Top Secret OD",
         "Mono, Stereo",
         "DOD OD-250"
        ],
        [
         "7",
         "Scream 808",
         "Mono, Stereo",
         "Ibanez TS808 Tube Screamer"
        ],
        [
         "8",
         "Hedgehog D9",
         "Mono, Stereo",
         "MAXON SD9 Sonic Distortion"
        ],
        [
         "9",
         "Stupor OD",
         "Mono, Stereo",
         "BOSS SD-1 Overdrive"
        ],
        [
         "10",
         "Deez One Vintage",
         "Mono, Stereo",
         "BOSS DS-1 Distortion (Made-in-Japan)"
        ],
        [
         "11",
         "Deez One Mod",
         "Mono, Stereo",
         "BOSS DS-1 Distortion (Keeley modded)"
        ],
        [
         "12",
         "Vermin Dist",
         "Mono, Stereo",
         "Pro Co RAT"
        ],
        [
         "13",
         "KWB",
         "Mono, Stereo",
         "Benadrian Kowloon Walled Bunny Distortion"
        ],
        [
         "14",
         "Arbitrator Fuzz",
         "Mono, Stereo",
         "Arbiter FuzzFace"
        ],
        [
         "15",
         "Triangle Fuzz",
         "Mono, Stereo",
         "Electro-Harmonix Big Muff Pi"
        ],
        [
         "16",
         "Industrial Fuzz",
         "Mono, Stereo",
         "Z.Vex Fuzz Factory"
        ],
        [
         "17",
         "Tycoctavia Fuzz",
         "Mono, Stereo",
         "Tycobrahe Octavia"
        ],
        [
         "18",
         "Thrifter Fuzz",
         "Mono, Stereo",
         "Line 6 Original"
        ],
        [
         "19",
         "Wringer Fuzz",
         "Mono, Stereo",
         "Garbage's modded BOSS FZ-2"
        ],
        [
         "20",
         "Megaphone",
         "Mono, Stereo",
         "Megaphone"
        ],
        [
         "21",
         "Bitcrusher",
         "Mono, Stereo",
         "Line 6 Original"
        ],
        [
         "22",
         "Obsidian 7000",
         "Mono, Stereo",
         "Darkglass Electronics Microtubes B7K Ultra"
        ],
        [
         "23",
         "Clawthorn Drive",
         "Mono, Stereo",
         "Wounded Paw Battering Ram"
        ],
        [
         "24",
         "Tube Drive",
         "Legacy",
         "Chandler Tube Driver"
        ],
        [
         "25",
         "Screamer",
         "Legacy",
         "Ibanez Tube Screamer"
        ],
        [
         "26",
         "Overdrive",
         "Legacy",
         "DOD Overdrive/Preamp 250"
        ],
        [
         "27",
         "Classic Dist",
         "Legacy",
         "ProCo RAT"
        ],
        [
         "28",
         "Heavy Dist",
         "Legacy",
         "BOSS Metal Zone"
        ],
        [
         "29",
         "Colordrive",
         "Legacy",
         "Colorsound Overdriver"
        ],
        [
         "30",
         "Buzz Saw",
         "Legacy",
         "Maestro Fuzz Tone"
        ],
        [
         "31",
         "Facial Fuzz",
         "Legacy",
         "Arbiter Fuzz Face"
        ],
        [
         "32",
         "Jumbo Fuzz",
         "Legacy",
         "Vox Tone Bender"
        ],
        [
         "33",
         "Fuzz Pi",
         "Legacy",
         "Electro-Harmonix Big Muff Pi"
        ],
        [
         "34",
         "Jet Fuzz",
         "Legacy",
         "Roland Jet Phaser"
        ],
        [
         "35",
         "L6 Drive",
         "Legacy",
         "Colorsound Overdriver (modded)"
        ],
        [
         "36",
         "L6 Distortion",
         "Legacy",
         "Line 6 Original"
        ],
        [
         "37",
         "Sub Oct Fuzz",
         "Legacy",
         "PAiA Roctave Divider"
        ],
        [
         "38",
         "Octave Fuzz",
         "Legacy",
         "Tycobrahe Octavia"
        ]
       ],
       "shape": {
        "columns": 3,
        "rows": 39
       }
      },
      "text/html": [
       "<div>\n",
       "<style scoped>\n",
       "    .dataframe tbody tr th:only-of-type {\n",
       "        vertical-align: middle;\n",
       "    }\n",
       "\n",
       "    .dataframe tbody tr th {\n",
       "        vertical-align: top;\n",
       "    }\n",
       "\n",
       "    .dataframe thead th {\n",
       "        text-align: right;\n",
       "    }\n",
       "</style>\n",
       "<table border=\"1\" class=\"dataframe\">\n",
       "  <thead>\n",
       "    <tr style=\"text-align: right;\">\n",
       "      <th></th>\n",
       "      <th>Model</th>\n",
       "      <th>Subcategories</th>\n",
       "      <th>Based_On</th>\n",
       "    </tr>\n",
       "  </thead>\n",
       "  <tbody>\n",
       "    <tr>\n",
       "      <th>0</th>\n",
       "      <td>Kinky Boost</td>\n",
       "      <td>Mono, Stereo</td>\n",
       "      <td>Xotic EP Booster</td>\n",
       "    </tr>\n",
       "    <tr>\n",
       "      <th>1</th>\n",
       "      <td>Deranged Master</td>\n",
       "      <td>Mono, Stereo</td>\n",
       "      <td>Dallas Rangemaster Treble Booster</td>\n",
       "    </tr>\n",
       "    <tr>\n",
       "      <th>2</th>\n",
       "      <td>Minotaur</td>\n",
       "      <td>Mono, Stereo</td>\n",
       "      <td>Klon Centaur</td>\n",
       "    </tr>\n",
       "    <tr>\n",
       "      <th>3</th>\n",
       "      <td>Teemah!</td>\n",
       "      <td>Mono, Stereo</td>\n",
       "      <td>Paul Cochrane Timmy Overdrive</td>\n",
       "    </tr>\n",
       "    <tr>\n",
       "      <th>4</th>\n",
       "      <td>Compulsive Drive</td>\n",
       "      <td>Mono, Stereo</td>\n",
       "      <td>Fulltone OCD</td>\n",
       "    </tr>\n",
       "    <tr>\n",
       "      <th>5</th>\n",
       "      <td>Valve Driver</td>\n",
       "      <td>Mono, Stereo</td>\n",
       "      <td>Chandler Tube Driver</td>\n",
       "    </tr>\n",
       "    <tr>\n",
       "      <th>6</th>\n",
       "      <td>Top Secret OD</td>\n",
       "      <td>Mono, Stereo</td>\n",
       "      <td>DOD OD-250</td>\n",
       "    </tr>\n",
       "    <tr>\n",
       "      <th>7</th>\n",
       "      <td>Scream 808</td>\n",
       "      <td>Mono, Stereo</td>\n",
       "      <td>Ibanez TS808 Tube Screamer</td>\n",
       "    </tr>\n",
       "    <tr>\n",
       "      <th>8</th>\n",
       "      <td>Hedgehog D9</td>\n",
       "      <td>Mono, Stereo</td>\n",
       "      <td>MAXON SD9 Sonic Distortion</td>\n",
       "    </tr>\n",
       "    <tr>\n",
       "      <th>9</th>\n",
       "      <td>Stupor OD</td>\n",
       "      <td>Mono, Stereo</td>\n",
       "      <td>BOSS SD-1 Overdrive</td>\n",
       "    </tr>\n",
       "    <tr>\n",
       "      <th>10</th>\n",
       "      <td>Deez One Vintage</td>\n",
       "      <td>Mono, Stereo</td>\n",
       "      <td>BOSS DS-1 Distortion (Made-in-Japan)</td>\n",
       "    </tr>\n",
       "    <tr>\n",
       "      <th>11</th>\n",
       "      <td>Deez One Mod</td>\n",
       "      <td>Mono, Stereo</td>\n",
       "      <td>BOSS DS-1 Distortion (Keeley modded)</td>\n",
       "    </tr>\n",
       "    <tr>\n",
       "      <th>12</th>\n",
       "      <td>Vermin Dist</td>\n",
       "      <td>Mono, Stereo</td>\n",
       "      <td>Pro Co RAT</td>\n",
       "    </tr>\n",
       "    <tr>\n",
       "      <th>13</th>\n",
       "      <td>KWB</td>\n",
       "      <td>Mono, Stereo</td>\n",
       "      <td>Benadrian Kowloon Walled Bunny Distortion</td>\n",
       "    </tr>\n",
       "    <tr>\n",
       "      <th>14</th>\n",
       "      <td>Arbitrator Fuzz</td>\n",
       "      <td>Mono, Stereo</td>\n",
       "      <td>Arbiter FuzzFace</td>\n",
       "    </tr>\n",
       "    <tr>\n",
       "      <th>15</th>\n",
       "      <td>Triangle Fuzz</td>\n",
       "      <td>Mono, Stereo</td>\n",
       "      <td>Electro-Harmonix Big Muff Pi</td>\n",
       "    </tr>\n",
       "    <tr>\n",
       "      <th>16</th>\n",
       "      <td>Industrial Fuzz</td>\n",
       "      <td>Mono, Stereo</td>\n",
       "      <td>Z.Vex Fuzz Factory</td>\n",
       "    </tr>\n",
       "    <tr>\n",
       "      <th>17</th>\n",
       "      <td>Tycoctavia Fuzz</td>\n",
       "      <td>Mono, Stereo</td>\n",
       "      <td>Tycobrahe Octavia</td>\n",
       "    </tr>\n",
       "    <tr>\n",
       "      <th>18</th>\n",
       "      <td>Thrifter Fuzz</td>\n",
       "      <td>Mono, Stereo</td>\n",
       "      <td>Line 6 Original</td>\n",
       "    </tr>\n",
       "    <tr>\n",
       "      <th>19</th>\n",
       "      <td>Wringer Fuzz</td>\n",
       "      <td>Mono, Stereo</td>\n",
       "      <td>Garbage's modded BOSS FZ-2</td>\n",
       "    </tr>\n",
       "    <tr>\n",
       "      <th>20</th>\n",
       "      <td>Megaphone</td>\n",
       "      <td>Mono, Stereo</td>\n",
       "      <td>Megaphone</td>\n",
       "    </tr>\n",
       "    <tr>\n",
       "      <th>21</th>\n",
       "      <td>Bitcrusher</td>\n",
       "      <td>Mono, Stereo</td>\n",
       "      <td>Line 6 Original</td>\n",
       "    </tr>\n",
       "    <tr>\n",
       "      <th>22</th>\n",
       "      <td>Obsidian 7000</td>\n",
       "      <td>Mono, Stereo</td>\n",
       "      <td>Darkglass Electronics Microtubes B7K Ultra</td>\n",
       "    </tr>\n",
       "    <tr>\n",
       "      <th>23</th>\n",
       "      <td>Clawthorn Drive</td>\n",
       "      <td>Mono, Stereo</td>\n",
       "      <td>Wounded Paw Battering Ram</td>\n",
       "    </tr>\n",
       "    <tr>\n",
       "      <th>24</th>\n",
       "      <td>Tube Drive</td>\n",
       "      <td>Legacy</td>\n",
       "      <td>Chandler Tube Driver</td>\n",
       "    </tr>\n",
       "    <tr>\n",
       "      <th>25</th>\n",
       "      <td>Screamer</td>\n",
       "      <td>Legacy</td>\n",
       "      <td>Ibanez Tube Screamer</td>\n",
       "    </tr>\n",
       "    <tr>\n",
       "      <th>26</th>\n",
       "      <td>Overdrive</td>\n",
       "      <td>Legacy</td>\n",
       "      <td>DOD Overdrive/Preamp 250</td>\n",
       "    </tr>\n",
       "    <tr>\n",
       "      <th>27</th>\n",
       "      <td>Classic Dist</td>\n",
       "      <td>Legacy</td>\n",
       "      <td>ProCo RAT</td>\n",
       "    </tr>\n",
       "    <tr>\n",
       "      <th>28</th>\n",
       "      <td>Heavy Dist</td>\n",
       "      <td>Legacy</td>\n",
       "      <td>BOSS Metal Zone</td>\n",
       "    </tr>\n",
       "    <tr>\n",
       "      <th>29</th>\n",
       "      <td>Colordrive</td>\n",
       "      <td>Legacy</td>\n",
       "      <td>Colorsound Overdriver</td>\n",
       "    </tr>\n",
       "    <tr>\n",
       "      <th>30</th>\n",
       "      <td>Buzz Saw</td>\n",
       "      <td>Legacy</td>\n",
       "      <td>Maestro Fuzz Tone</td>\n",
       "    </tr>\n",
       "    <tr>\n",
       "      <th>31</th>\n",
       "      <td>Facial Fuzz</td>\n",
       "      <td>Legacy</td>\n",
       "      <td>Arbiter Fuzz Face</td>\n",
       "    </tr>\n",
       "    <tr>\n",
       "      <th>32</th>\n",
       "      <td>Jumbo Fuzz</td>\n",
       "      <td>Legacy</td>\n",
       "      <td>Vox Tone Bender</td>\n",
       "    </tr>\n",
       "    <tr>\n",
       "      <th>33</th>\n",
       "      <td>Fuzz Pi</td>\n",
       "      <td>Legacy</td>\n",
       "      <td>Electro-Harmonix Big Muff Pi</td>\n",
       "    </tr>\n",
       "    <tr>\n",
       "      <th>34</th>\n",
       "      <td>Jet Fuzz</td>\n",
       "      <td>Legacy</td>\n",
       "      <td>Roland Jet Phaser</td>\n",
       "    </tr>\n",
       "    <tr>\n",
       "      <th>35</th>\n",
       "      <td>L6 Drive</td>\n",
       "      <td>Legacy</td>\n",
       "      <td>Colorsound Overdriver (modded)</td>\n",
       "    </tr>\n",
       "    <tr>\n",
       "      <th>36</th>\n",
       "      <td>L6 Distortion</td>\n",
       "      <td>Legacy</td>\n",
       "      <td>Line 6 Original</td>\n",
       "    </tr>\n",
       "    <tr>\n",
       "      <th>37</th>\n",
       "      <td>Sub Oct Fuzz</td>\n",
       "      <td>Legacy</td>\n",
       "      <td>PAiA Roctave Divider</td>\n",
       "    </tr>\n",
       "    <tr>\n",
       "      <th>38</th>\n",
       "      <td>Octave Fuzz</td>\n",
       "      <td>Legacy</td>\n",
       "      <td>Tycobrahe Octavia</td>\n",
       "    </tr>\n",
       "  </tbody>\n",
       "</table>\n",
       "</div>"
      ],
      "text/plain": [
       "               Model Subcategories                                    Based_On\n",
       "0        Kinky Boost  Mono, Stereo                            Xotic EP Booster\n",
       "1    Deranged Master  Mono, Stereo           Dallas Rangemaster Treble Booster\n",
       "2           Minotaur  Mono, Stereo                                Klon Centaur\n",
       "3            Teemah!  Mono, Stereo               Paul Cochrane Timmy Overdrive\n",
       "4   Compulsive Drive  Mono, Stereo                                Fulltone OCD\n",
       "5       Valve Driver  Mono, Stereo                        Chandler Tube Driver\n",
       "6      Top Secret OD  Mono, Stereo                                  DOD OD-250\n",
       "7         Scream 808  Mono, Stereo                  Ibanez TS808 Tube Screamer\n",
       "8        Hedgehog D9  Mono, Stereo                  MAXON SD9 Sonic Distortion\n",
       "9          Stupor OD  Mono, Stereo                         BOSS SD-1 Overdrive\n",
       "10  Deez One Vintage  Mono, Stereo        BOSS DS-1 Distortion (Made-in-Japan)\n",
       "11      Deez One Mod  Mono, Stereo        BOSS DS-1 Distortion (Keeley modded)\n",
       "12       Vermin Dist  Mono, Stereo                                  Pro Co RAT\n",
       "13               KWB  Mono, Stereo   Benadrian Kowloon Walled Bunny Distortion\n",
       "14   Arbitrator Fuzz  Mono, Stereo                            Arbiter FuzzFace\n",
       "15     Triangle Fuzz  Mono, Stereo                Electro-Harmonix Big Muff Pi\n",
       "16   Industrial Fuzz  Mono, Stereo                          Z.Vex Fuzz Factory\n",
       "17   Tycoctavia Fuzz  Mono, Stereo                           Tycobrahe Octavia\n",
       "18     Thrifter Fuzz  Mono, Stereo                             Line 6 Original\n",
       "19      Wringer Fuzz  Mono, Stereo                  Garbage's modded BOSS FZ-2\n",
       "20         Megaphone  Mono, Stereo                                   Megaphone\n",
       "21        Bitcrusher  Mono, Stereo                             Line 6 Original\n",
       "22     Obsidian 7000  Mono, Stereo  Darkglass Electronics Microtubes B7K Ultra\n",
       "23   Clawthorn Drive  Mono, Stereo                   Wounded Paw Battering Ram\n",
       "24        Tube Drive        Legacy                        Chandler Tube Driver\n",
       "25          Screamer        Legacy                        Ibanez Tube Screamer\n",
       "26         Overdrive        Legacy                    DOD Overdrive/Preamp 250\n",
       "27      Classic Dist        Legacy                                   ProCo RAT\n",
       "28        Heavy Dist        Legacy                             BOSS Metal Zone\n",
       "29        Colordrive        Legacy                       Colorsound Overdriver\n",
       "30          Buzz Saw        Legacy                           Maestro Fuzz Tone\n",
       "31       Facial Fuzz        Legacy                           Arbiter Fuzz Face\n",
       "32        Jumbo Fuzz        Legacy                             Vox Tone Bender\n",
       "33           Fuzz Pi        Legacy                Electro-Harmonix Big Muff Pi\n",
       "34          Jet Fuzz        Legacy                           Roland Jet Phaser\n",
       "35          L6 Drive        Legacy              Colorsound Overdriver (modded)\n",
       "36     L6 Distortion        Legacy                             Line 6 Original\n",
       "37      Sub Oct Fuzz        Legacy                        PAiA Roctave Divider\n",
       "38       Octave Fuzz        Legacy                           Tycobrahe Octavia"
      ]
     },
     "execution_count": 4,
     "metadata": {},
     "output_type": "execute_result"
    }
   ],
   "source": [
    "EQUIPMENT['Distortion']"
   ]
  },
  {
   "cell_type": "code",
   "execution_count": null,
   "metadata": {},
   "outputs": [],
   "source": []
  }
 ],
 "metadata": {
  "kernelspec": {
   "display_name": "venv",
   "language": "python",
   "name": "python3"
  },
  "language_info": {
   "codemirror_mode": {
    "name": "ipython",
    "version": 3
   },
   "file_extension": ".py",
   "mimetype": "text/x-python",
   "name": "python",
   "nbconvert_exporter": "python",
   "pygments_lexer": "ipython3",
   "version": "3.13.1"
  }
 },
 "nbformat": 4,
 "nbformat_minor": 2
}
